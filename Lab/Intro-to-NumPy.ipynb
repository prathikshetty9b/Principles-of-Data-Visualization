{
 "cells": [
  {
   "cell_type": "markdown",
   "metadata": {},
   "source": [
    "# **Brief Introduction to Numpy**"
   ]
  },
  {
   "cell_type": "code",
   "execution_count": 70,
   "metadata": {},
   "outputs": [],
   "source": [
    "#import numpy \n",
    "import numpy as np"
   ]
  },
  {
   "cell_type": "markdown",
   "metadata": {},
   "source": [
    "## **Array in NumPy**\n",
    "\n",
    "- Slicing in Numpy\n",
    "- Modifying an array in NumPy "
   ]
  },
  {
   "cell_type": "code",
   "execution_count": 71,
   "metadata": {},
   "outputs": [
    {
     "data": {
      "text/plain": [
       "numpy.ndarray"
      ]
     },
     "execution_count": 71,
     "metadata": {},
     "output_type": "execute_result"
    }
   ],
   "source": [
    "#Creating an Array using Numpy\n",
    "a = np.array([1,2,3,4,5])\n",
    "type(a)"
   ]
  },
  {
   "cell_type": "code",
   "execution_count": 72,
   "metadata": {},
   "outputs": [
    {
     "data": {
      "text/plain": [
       "list"
      ]
     },
     "execution_count": 72,
     "metadata": {},
     "output_type": "execute_result"
    }
   ],
   "source": [
    "# Normal Array\n",
    "b = [1,2,3,4,5]\n",
    "type(b)"
   ]
  },
  {
   "cell_type": "markdown",
   "metadata": {},
   "source": [
    "## **Slicing : Normal Array vs NumPy Array**"
   ]
  },
  {
   "cell_type": "code",
   "execution_count": 73,
   "metadata": {},
   "outputs": [
    {
     "data": {
      "text/plain": [
       "array([2, 3])"
      ]
     },
     "execution_count": 73,
     "metadata": {},
     "output_type": "execute_result"
    }
   ],
   "source": [
    "# Slice NumPy Array\n",
    "a[1:3]"
   ]
  },
  {
   "cell_type": "code",
   "execution_count": 74,
   "metadata": {},
   "outputs": [
    {
     "data": {
      "text/plain": [
       "[2, 3]"
      ]
     },
     "execution_count": 74,
     "metadata": {},
     "output_type": "execute_result"
    }
   ],
   "source": [
    "# Slice Normal Array\n",
    "b[1:3]"
   ]
  },
  {
   "cell_type": "code",
   "execution_count": 75,
   "metadata": {},
   "outputs": [
    {
     "data": {
      "text/plain": [
       "array([1, 7, 7, 4, 5])"
      ]
     },
     "execution_count": 75,
     "metadata": {},
     "output_type": "execute_result"
    }
   ],
   "source": [
    "#Assigning value to a slice in NumPy \n",
    "a[1:3] = 7\n",
    "a"
   ]
  },
  {
   "cell_type": "code",
   "execution_count": 76,
   "metadata": {},
   "outputs": [
    {
     "ename": "TypeError",
     "evalue": "can only assign an iterable",
     "output_type": "error",
     "traceback": [
      "\u001b[1;31m---------------------------------------------------------------------------\u001b[0m",
      "\u001b[1;31mTypeError\u001b[0m                                 Traceback (most recent call last)",
      "\u001b[1;32m<ipython-input-76-10f6b6e2d76e>\u001b[0m in \u001b[0;36m<module>\u001b[1;34m\u001b[0m\n\u001b[0;32m      1\u001b[0m \u001b[1;31m# Can't Assign value to Slice (throws an error)\u001b[0m\u001b[1;33m\u001b[0m\u001b[1;33m\u001b[0m\u001b[1;33m\u001b[0m\u001b[0m\n\u001b[1;32m----> 2\u001b[1;33m \u001b[0mb\u001b[0m\u001b[1;33m[\u001b[0m\u001b[1;36m1\u001b[0m\u001b[1;33m:\u001b[0m\u001b[1;36m3\u001b[0m\u001b[1;33m]\u001b[0m \u001b[1;33m=\u001b[0m \u001b[1;36m8\u001b[0m\u001b[1;33m\u001b[0m\u001b[1;33m\u001b[0m\u001b[0m\n\u001b[0m\u001b[0;32m      3\u001b[0m \u001b[0mb\u001b[0m\u001b[1;33m\u001b[0m\u001b[1;33m\u001b[0m\u001b[0m\n",
      "\u001b[1;31mTypeError\u001b[0m: can only assign an iterable"
     ]
    }
   ],
   "source": [
    "# Can't Assign value to Slice (throws an error)\n",
    "b[1:3] = 8\n",
    "b"
   ]
  },
  {
   "cell_type": "markdown",
   "metadata": {},
   "source": [
    "## **Modifying an array in Numpy**\n",
    "- Assigning a numpy array to another variable creates another instance of the same array.\n",
    "- Modifying an instance would modify all other instances.\n",
    "- To create a copy of an array use 'copy' function."
   ]
  },
  {
   "cell_type": "code",
   "execution_count": null,
   "metadata": {},
   "outputs": [
    {
     "name": "stdout",
     "output_type": "stream",
     "text": [
      "[1 2 3 4 5]\n",
      "[1 9 3 4 5]\n",
      "[1 9 3 4 5]\n"
     ]
    }
   ],
   "source": [
    "# Assign array to a new variable\n",
    "a = np.array([1,2,3,4,5])\n",
    "d = a\n",
    "print(d)\n",
    "\n",
    "#Modifying 'd'  would modify 'a' as well \n",
    "d[1] = 9\n",
    "print(d)\n",
    "print(a)"
   ]
  },
  {
   "cell_type": "code",
   "execution_count": null,
   "metadata": {},
   "outputs": [
    {
     "name": "stdout",
     "output_type": "stream",
     "text": [
      "[1 9 3 4 5]\n",
      "[1 9 5 4 5]\n",
      "[1 9 3 4 5]\n"
     ]
    }
   ],
   "source": [
    "# Copying Numpy Array\n",
    "c = np.copy(a)\n",
    "print(c)\n",
    "\n",
    "#Change 3rd elemnt to 5\n",
    "c[2] = 5\n",
    "print(c)\n",
    "\n",
    "#Modifying 'c' does not affect 'a'\n",
    "print(a)"
   ]
  },
  {
   "cell_type": "markdown",
   "metadata": {},
   "source": [
    "## **Reshaping an Array**\n",
    "- Use reshape function\n",
    "- By reshaping we can add or remove dimensions or change number of elements in each dimension.\n",
    "- `ndim` : Returns dimension of the array\n",
    "\n"
   ]
  },
  {
   "cell_type": "code",
   "execution_count": null,
   "metadata": {},
   "outputs": [
    {
     "name": "stdout",
     "output_type": "stream",
     "text": [
      "Array a : [1 2 3 4 5 6 7 8 9 0]\n",
      "Dimension :  1\n",
      "Array b : [[1 2 3 4 5]\n",
      " [6 7 8 9 0]]\n",
      "Dimension : 2\n"
     ]
    }
   ],
   "source": [
    "#1D to 2D\n",
    "\n",
    "#Array a with 10 elements\n",
    "a = np.array([1,2,3,4,5,6,7,8,9,0])\n",
    "\n",
    "\n",
    "#Reshape a to a 2D array\n",
    "b = a.reshape(2,5)\n",
    "\n",
    "print(\"Array a :\", a)\n",
    "#Array dimension \n",
    "print(\"Dimension : \",a.ndim)\n",
    "print(\"Array b :\", b)\n",
    "#Array dimension \n",
    "print(\"Dimension :\",b.ndim)\n",
    "\n"
   ]
  },
  {
   "cell_type": "markdown",
   "metadata": {},
   "source": [
    "## **Random Numbers in Numpy**\n",
    "- Import `random` module from NumPy\n",
    "- `randint(x)` generates random integer value from 0 to x\n",
    "-  `randint(x,size(dimension))` generates random array of specified dimension\n",
    "-  The `choice()` method allows you to generate a random value based on an array of values."
   ]
  },
  {
   "cell_type": "code",
   "execution_count": null,
   "metadata": {},
   "outputs": [
    {
     "data": {
      "text/plain": [
       "81"
      ]
     },
     "execution_count": 69,
     "metadata": {},
     "output_type": "execute_result"
    }
   ],
   "source": [
    "# Import random module\n",
    "\n",
    "from numpy import random as rd\n",
    "\n",
    "#Generate a random integer from 0 to 100\n",
    "rd.randint(100)"
   ]
  },
  {
   "cell_type": "code",
   "execution_count": null,
   "metadata": {},
   "outputs": [
    {
     "data": {
      "text/plain": [
       "array([59,  5, 64, 75, 67, 65, 87])"
      ]
     },
     "execution_count": 47,
     "metadata": {},
     "output_type": "execute_result"
    }
   ],
   "source": [
    "#Generate a 1-D array containing 7 random integers\n",
    "rd.randint(100,size=7)"
   ]
  },
  {
   "cell_type": "code",
   "execution_count": null,
   "metadata": {},
   "outputs": [
    {
     "data": {
      "text/plain": [
       "array([[14, 20, 23, 30,  1, 24],\n",
       "       [12,  5, 46, 28, 22, 15],\n",
       "       [10,  1, 27, 31,  4, 40]])"
      ]
     },
     "execution_count": 52,
     "metadata": {},
     "output_type": "execute_result"
    }
   ],
   "source": [
    "#Generate a 2-D array with 3 rows, each row containing 6 random integers\n",
    "rd.randint(50,size=(3,6))"
   ]
  },
  {
   "cell_type": "code",
   "execution_count": null,
   "metadata": {},
   "outputs": [
    {
     "name": "stdout",
     "output_type": "stream",
     "text": [
      "4\n",
      "[[4 3 5]\n",
      " [3 2 4]]\n"
     ]
    }
   ],
   "source": [
    "#Select a random value from the array\n",
    "print(rd.choice([1,2,3,4,5]))\n",
    "\n",
    "#Select a random value from the array and store it in another array\n",
    "print(rd.choice([1,2,3,4,5],size=(2,3)))"
   ]
  }
 ],
 "metadata": {
  "interpreter": {
   "hash": "b3ba2566441a7c06988d0923437866b63cedc61552a5af99d1f4fb67d367b25f"
  },
  "kernelspec": {
   "display_name": "Python 3.8.8 64-bit ('base': conda)",
   "name": "python3"
  },
  "language_info": {
   "codemirror_mode": {
    "name": "ipython",
    "version": 3
   },
   "file_extension": ".py",
   "mimetype": "text/x-python",
   "name": "python",
   "nbconvert_exporter": "python",
   "pygments_lexer": "ipython3",
   "version": "3.8.8"
  },
  "orig_nbformat": 4
 },
 "nbformat": 4,
 "nbformat_minor": 2
}
